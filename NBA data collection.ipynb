{
 "cells": [
  {
   "cell_type": "code",
   "execution_count": 1,
   "metadata": {},
   "outputs": [],
   "source": [
    "import numpy as np"
   ]
  },
  {
   "cell_type": "markdown",
   "metadata": {},
   "source": [
    "We will be using numpy to collect all the data from the gamestats api to create our dataset"
   ]
  },
  {
   "cell_type": "markdown",
   "metadata": {},
   "source": [
    "Using the MySportsFeed API, we need to determine all the games happening on a certain day. We can use this to get individual game data."
   ]
  },
  {
   "cell_type": "code",
   "execution_count": 2,
   "metadata": {},
   "outputs": [
    {
     "ename": "SyntaxError",
     "evalue": "invalid syntax (<ipython-input-2-bee4a9e35e42>, line 10)",
     "output_type": "error",
     "traceback": [
      "\u001b[1;36m  File \u001b[1;32m\"<ipython-input-2-bee4a9e35e42>\"\u001b[1;36m, line \u001b[1;32m10\u001b[0m\n\u001b[1;33m    \"Authorization\": \"Basic \" + base64.b64encode('{}:{}'.format(<INSERT GAMESTATS USERNAME HERE>,<INSERT GAMESTATS PASSWORD HERE>).encode('utf-8')).decode('ascii')\u001b[0m\n\u001b[1;37m                                                                ^\u001b[0m\n\u001b[1;31mSyntaxError\u001b[0m\u001b[1;31m:\u001b[0m invalid syntax\n"
     ]
    }
   ],
   "source": [
    "def gamesHappeningon(datestr): #date is a string in the format YYYYMMDD\n",
    "    \"returns a list of strings with all the games\"\n",
    "    #70 is the server limit for requests\n",
    "    response = requests.get(\n",
    "        url = \"https://api.mysportsfeeds.com/v1.1/pull/nba/2016-2017-regular/full_game_schedule.json\",\n",
    "        params = {\n",
    "            \"date\" : datestr\n",
    "        },\n",
    "        headers = {\n",
    "            \"Authorization\": \"Basic \" + base64.b64encode('{}:{}'.format(<INSERT GAMESTATS USERNAME HERE>,<INSERT GAMESTATS PASSWORD HERE>).encode('utf-8')).decode('ascii')\n",
    "        })\n",
    "    \n",
    "    loaded = json.loads(response.content.decode('latin1'))\n",
    "    gamelist = []\n",
    "\n",
    "    if 'gameentry' in loaded['fullgameschedule']:\n",
    "        for i in range (0,len(loaded['fullgameschedule']['gameentry'])): #how many games in the day\n",
    "            date = loaded['fullgameschedule']['gameentry'][i]['date']\n",
    "            awayTeam = loaded['fullgameschedule']['gameentry'][i]['awayTeam']['Abbreviation']\n",
    "            homeTeam = loaded['fullgameschedule']['gameentry'][i]['homeTeam']['Abbreviation']\n",
    "\n",
    "            retstr = date[0:4]+date[5:7]+date[8:10]  +  \"-\"  +  awayTeam  +  \"-\"  +  homeTeam\n",
    "            gamelist.append(retstr)\n",
    "\n",
    "    return gamelist"
   ]
  },
  {
   "cell_type": "markdown",
   "metadata": {},
   "source": [
    "Using the requests library, we can request API data from the MySportsFeed url. We pass in the date as a parameter and our authorization creditials in the header parameter. (These few lines were modified from the MySportsFeeds website https://www.mysportsfeeds.com/data-feeds/api-docs/#) We then load this data into a json object with json.loads which converts the string object into a JSON object that we can manipulate the objects in the json dictionary. We then do some string manipulation to get the string required in order to properly call the API later."
   ]
  },
  {
   "cell_type": "code",
   "execution_count": null,
   "metadata": {},
   "outputs": [],
   "source": [
    "def getPlayerStats(API):\n",
    "    \"given a player's json file, will output a row vector with their chosen stats\"\n",
    "    tempStats = numpy.zeros(31)\n",
    "    #one hot encoding\n",
    "    if API[\"player\"][\"Position\"]== \"PG\":\n",
    "        tempStats[0] = 1\n",
    "    if API[\"player\"][\"Position\"]== \"SG\":\n",
    "        tempStats[1] = 1\n",
    "    if API[\"player\"][\"Position\"]== \"C\":\n",
    "        tempStats[2] = 1\n",
    "    if API[\"player\"][\"Position\"]== \"SF\":\n",
    "        tempStats[3] = 1\n",
    "    if API[\"player\"][\"Position\"]== \"PF\":\n",
    "        tempStats[4] = 1\n",
    "\n",
    "    #acutal stats\n",
    "    tempStats[5] = API[\"stats\"][\"Fg2PtAtt\"][\"#text\"]\n",
    "    tempStats[6] = API[\"stats\"][\"Fg2PtMade\"][\"#text\"]\n",
    "    tempStats[7] = API[\"stats\"][\"Fg3PtAtt\"][\"#text\"]\n",
    "    tempStats[8] = API[\"stats\"][\"Fg3PtMade\"][\"#text\"]\n",
    "    tempStats[9] = API[\"stats\"][\"FtAtt\"][\"#text\"]\n",
    "    tempStats[10] = API[\"stats\"][\"FtMade\"][\"#text\"]\n",
    "    tempStats[11] = API[\"stats\"][\"OffReb\"][\"#text\"]\n",
    "    tempStats[12] = API[\"stats\"][\"DefReb\"][\"#text\"]\n",
    "    tempStats[13] = API[\"stats\"][\"Ast\"][\"#text\"]\n",
    "    tempStats[14] = API[\"stats\"][\"Pts\"][\"#text\"]\n",
    "    tempStats[15] = API[\"stats\"][\"Tov\"][\"#text\"]\n",
    "    tempStats[16] = API[\"stats\"][\"Stl\"][\"#text\"]\n",
    "    tempStats[17] = API[\"stats\"][\"Blk\"][\"#text\"]\n",
    "    tempStats[18] = API[\"stats\"][\"BlkAgainst\"][\"#text\"]\n",
    "    tempStats[19] = API[\"stats\"][\"Fouls\"][\"#text\"]\n",
    "    tempStats[20] = API[\"stats\"][\"FoulsDrawn\"][\"#text\"]\n",
    "    tempStats[21] = API[\"stats\"][\"FoulPers\"][\"#text\"]\n",
    "    tempStats[22] = API[\"stats\"][\"FoulPersDrawn\"][\"#text\"]\n",
    "    tempStats[23] = API[\"stats\"][\"FoulTech\"][\"#text\"]\n",
    "    tempStats[24] = API[\"stats\"][\"FoulTechDrawn\"][\"#text\"]\n",
    "    tempStats[25] = API[\"stats\"][\"FoulFlag1\"][\"#text\"]\n",
    "    tempStats[26] = API[\"stats\"][\"FoulFlag1Drawn\"][\"#text\"]\n",
    "    tempStats[27] = API[\"stats\"][\"FoulFlag2\"][\"#text\"]\n",
    "    tempStats[28] = API[\"stats\"][\"FoulFlag2Drawn\"][\"#text\"]\n",
    "    tempStats[29] = API[\"stats\"][\"PlusMinus\"][\"#text\"]\n",
    "    tempStats[30] = API[\"stats\"][\"MinSeconds\"][\"#text\"]\n",
    "\n",
    "    return tempStats"
   ]
  },
  {
   "cell_type": "markdown",
   "metadata": {},
   "source": [
    "This section of code accepts a json object of a player stats and converts it into a matrix with all of the features as columns. THe first few lines creates a one hot encoded matrix which determines which position the player plays. A point guard stats will be very different than a center's stats. This one hot encoding will help the algorithm work with different types of players. Sometimes there is a player who plays in a more general guard position. They may play point guard or shooting guars depending on the situation. In this situation, we assign both point guard and shooting guard to 1."
   ]
  },
  {
   "cell_type": "markdown",
   "metadata": {},
   "source": [
    "Next we will try to create a row with all the stats from all players on a team. We will call this function gameStats and it will accept a gameidentifier (which we created in the gamesHappeningon function. It will also accept a boolean value which will indicate if it is an away team or not. (1 for an away team, 0 for a home team) gameSet is the set that we return."
   ]
  },
  {
   "cell_type": "code",
   "execution_count": null,
   "metadata": {},
   "outputs": [],
   "source": [
    "def gameStats(gameidentifier, away):\n",
    "    \"creates row of stats for one team\"\n",
    "    gameSet = numpy.zeros(1) #includes the x0 term = 1\n",
    "    gameSet[0] = 1"
   ]
  },
  {
   "cell_type": "code",
   "execution_count": null,
   "metadata": {},
   "outputs": [],
   "source": [
    "    tempGame = requests.get(\n",
    "        url = \"https://api.mysportsfeeds.com/v1.1/pull/nba/2016-2017-regular/game_boxscore.json?gameid=\" + gameidentifier,\n",
    "        params = {\n",
    "\n",
    "        },\n",
    "        headers = {\n",
    "            \"Authorization\": \"Basic \" + base64.b64encode('{}:{}'.format(\"matthewc\",\"change112\").encode('utf-8')).decode('ascii')\n",
    "        })\n",
    "    loaded = json.loads(tempGame.content.decode('latin1'))"
   ]
  },
  {
   "cell_type": "markdown",
   "metadata": {},
   "source": [
    "This section of code accesses the API and converts the string into a json object. It is the same as gamesHappeningon except for the fact that we are accessing a different API endpoint."
   ]
  },
  {
   "cell_type": "code",
   "execution_count": null,
   "metadata": {},
   "outputs": [],
   "source": [
    "    if away:\n",
    "        playerTemp = loaded[\"gameboxscore\"][\"awayTeam\"][\"awayPlayers\"][\"playerEntry\"]\n",
    "    else:\n",
    "        playerTemp = loaded[\"gameboxscore\"][\"homeTeam\"][\"homePlayers\"][\"playerEntry\"]\n",
    "    PG = numpy.zeros(31) #31 stats we are looking at\n",
    "    SG = numpy.zeros(31)\n",
    "    C = numpy.zeros(31)\n",
    "    SF = numpy.zeros(31)\n",
    "    PF = numpy.zeros(31)\n",
    "    count = numpy.zeros(5) #number of players on each team in each role\n",
    "    # 0-PG 1-SG 2-C 3-PF 4-SF"
   ]
  },
  {
   "cell_type": "markdown",
   "metadata": {},
   "source": [
    "Here we are setting the inital variables. The player's information is different depending on if their team is away or at home. After, we set up the five \"blocks\" for data to be inserted. The count variable will be used to average each of the five \"blocks\""
   ]
  },
  {
   "cell_type": "markdown",
   "metadata": {},
   "source": [
    "In our matrix there will be one block of 31 colums for each position(shooting guard, point gaurd, center, small forward, power foward). We will take all the players in a team and average them into their respective position. For guards who play both point and shooting guards, we will weigh their stats 50% in each of the categories(shooting guard and point guard)."
   ]
  },
  {
   "cell_type": "code",
   "execution_count": null,
   "metadata": {},
   "outputs": [],
   "source": [
    "    for j in range(0,len(playerTemp)): #scans through all players\n",
    "        position = playerTemp[j][\"player\"][\"Position\"]\n",
    "        player = playerTemp[j]\n",
    "        #print(position)\n",
    "        if position == \"PG\":\n",
    "            count[0]+=1\n",
    "            PG = PG + getPlayerStats(player)\n",
    "        if position == \"SG\":\n",
    "            count[1]+=1\n",
    "            SG = SG + getPlayerStats(player)\n",
    "        if position == \"C\":\n",
    "            count[2]+=1\n",
    "            C = C + getPlayerStats(player)\n",
    "        if position == \"SF\":\n",
    "            count[3]+=1\n",
    "            SF = SF + getPlayerStats(player)\n",
    "        if position == \"PF\":\n",
    "            count[4]+=1\n",
    "            PF = PF + getPlayerStats(player)\n",
    "        if position == \"G\":\n",
    "            count[0]+=1\n",
    "            count[1]+=1\n",
    "            PG = PG + 0.5*getPlayerStats(player)\n",
    "            SG = SG + 0.5*getPlayerStats(player)\n",
    "        if position == \"F\":\n",
    "            count[3]+=1\n",
    "            count[4]+=1\n",
    "            SF = SF + 0.5*getPlayerStats(player)\n",
    "            PF = PF + 0.5*getPlayerStats(player)"
   ]
  },
  {
   "cell_type": "markdown",
   "metadata": {},
   "source": [
    "Above is the main loop where we will be collecting all the stats for the players. Depending on their position, they will be averaged in each different \"block\""
   ]
  },
  {
   "cell_type": "code",
   "execution_count": null,
   "metadata": {},
   "outputs": [],
   "source": [
    "    if count[0] != 0:\n",
    "        PG = PG/count[0]\n",
    "    if count[1] != 0:\n",
    "        SG = SG/count[1]\n",
    "    if count[2] != 0:\n",
    "        C = C/count[2]\n",
    "    if count[3] != 0:\n",
    "        SF = SF/count[3]\n",
    "    if count[4] != 0:\n",
    "        PF = PF/count[4]\n",
    "\n",
    "    gameSet = numpy.concatenate([gameSet,PG,SG,C,SF,PF])\n",
    "\n",
    "    return gameSet"
   ]
  },
  {
   "cell_type": "markdown",
   "metadata": {},
   "source": [
    "Here we average each block and concatenate each of them into a dataset."
   ]
  },
  {
   "cell_type": "markdown",
   "metadata": {},
   "source": [
    "We have another function to combine all the data above into one row."
   ]
  },
  {
   "cell_type": "code",
   "execution_count": null,
   "metadata": {},
   "outputs": [],
   "source": [
    "def trainingSet(startDateInt): #startDateInt is in the form  YYYYMMDD\n",
    "    \"combines the home and away team's stats into one row [away home]\""
   ]
  },
  {
   "cell_type": "code",
   "execution_count": null,
   "metadata": {},
   "outputs": [],
   "source": [
    "    startday = startDateInt%100\n",
    "    startmonth = (startDateInt%10000) // 100\n",
    "    startyear = startDateInt//10000\n",
    "\n",
    "    #assume year is the same\n",
    "    start = datetime.date(startyear,startmonth,startday)\n",
    "    #scan through all dates\n",
    "    strDate = (start).isoformat()\n",
    "    strFormatted = strDate.replace('-', '')"
   ]
  },
  {
   "cell_type": "markdown",
   "metadata": {},
   "source": [
    "We format the inputed date into a string - something that gamesHappeningon will accept."
   ]
  },
  {
   "cell_type": "code",
   "execution_count": null,
   "metadata": {},
   "outputs": [],
   "source": [
    "#formatted is a list of days between the two dates specified\n",
    "    gamesForTheDay = gamesHappeningon(strFormatted)"
   ]
  },
  {
   "cell_type": "markdown",
   "metadata": {},
   "source": [
    "gamesHappening is an array of all games happening on the specified date.\n",
    "This uses the gamesHappeningon function that we developed earlier"
   ]
  },
  {
   "cell_type": "code",
   "execution_count": null,
   "metadata": {},
   "outputs": [],
   "source": [
    "    #parse individual games\n",
    "    #concatentates each game's stats (home and away)\n",
    "    training = numpy.empty((0,312))\n",
    "    \n",
    "    for idx, i in enumerate(gamesForTheDay):\n",
    "        temprow = []\n",
    "        #away - home\n",
    "        temprow = numpy.concatenate([temprow,gameStats(gamesForTheDay[idx],'true'),gameStats(gamesForTheDay[idx],'false')])\n",
    "        training = numpy.vstack((training,temprow))"
   ]
  },
  {
   "cell_type": "markdown",
   "metadata": {},
   "source": [
    "the first line - numpy.empty((0,312)) - is done to take care of matrix size restrictions\n",
    "\n",
    "temprow is the temp matix that we concatenate the home and away games. - we then stack this temp matrix to the training matrix which we save to a .csv file."
   ]
  },
  {
   "cell_type": "code",
   "execution_count": null,
   "metadata": {},
   "outputs": [],
   "source": [
    "numpy.savetxt(\"DataSets - Copy/\" + str(startDateInt) + \".csv\",training,delimiter=\",\")"
   ]
  },
  {
   "cell_type": "markdown",
   "metadata": {},
   "source": [
    "Finally, we save this numpy array into a .csv file."
   ]
  }
 ],
 "metadata": {
  "kernelspec": {
   "display_name": "Python 3",
   "language": "python",
   "name": "python3"
  },
  "language_info": {
   "codemirror_mode": {
    "name": "ipython",
    "version": 3
   },
   "file_extension": ".py",
   "mimetype": "text/x-python",
   "name": "python",
   "nbconvert_exporter": "python",
   "pygments_lexer": "ipython3",
   "version": "3.6.2"
  }
 },
 "nbformat": 4,
 "nbformat_minor": 2
}
